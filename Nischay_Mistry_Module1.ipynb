{
 "cells": [
  {
   "cell_type": "markdown",
   "id": "afb28f6c",
   "metadata": {},
   "source": [
    "# 1 Write a Python program to swap first and last element of the list.\n"
   ]
  },
  {
   "cell_type": "code",
   "execution_count": 56,
   "id": "f14881ac",
   "metadata": {},
   "outputs": [
    {
     "name": "stdout",
     "output_type": "stream",
     "text": [
      "['a0', 'a1', 'a2', 'a3', 'a4', 'a5']\n"
     ]
    }
   ],
   "source": [
    "list1 = [\"a0\",\"a1\",\"a2\",\"a3\",\"a4\",\"a5\"]\n",
    "print(list1)"
   ]
  },
  {
   "cell_type": "code",
   "execution_count": 66,
   "id": "0820343c",
   "metadata": {},
   "outputs": [
    {
     "name": "stdout",
     "output_type": "stream",
     "text": [
      "['a5', 'a1', 'a2', 'a3', 'a4', 'a0']\n"
     ]
    }
   ],
   "source": [
    "x , y = list1.index(\"a0\"), list1.index(\"a5\")\n",
    "\n",
    "list1[x],list1[y] = list1[y], list1[x]\n",
    "\n",
    "print(list1)"
   ]
  },
  {
   "cell_type": "markdown",
   "id": "d6ea399c",
   "metadata": {},
   "source": [
    "# 2 Write Python program to find the length of list using for loop."
   ]
  },
  {
   "cell_type": "code",
   "execution_count": 87,
   "id": "25544a4c",
   "metadata": {},
   "outputs": [
    {
     "name": "stdout",
     "output_type": "stream",
     "text": [
      "['a0', 'a1', 'a2', 'a3', 'a4', 'a5']\n",
      "Length of list is =  6\n"
     ]
    }
   ],
   "source": [
    "list2 = [\"a0\",\"a1\",\"a2\",\"a3\",\"a4\",\"a5\"]\n",
    "print(list2)\n",
    "\n",
    "i=0\n",
    "\n",
    "for item in list2:\n",
    "    i= i+1\n",
    "print(\"Length of list is = \",i)\n"
   ]
  },
  {
   "cell_type": "markdown",
   "id": "bae020cd",
   "metadata": {},
   "source": [
    "# 3 Write a python program to subtract matrices of dimension 3-by-3 with given matrix\n"
   ]
  },
  {
   "cell_type": "code",
   "execution_count": 111,
   "id": "bf5ba292",
   "metadata": {
    "scrolled": false
   },
   "outputs": [
    {
     "name": "stdout",
     "output_type": "stream",
     "text": [
      "First Matrix is =  [[ 99 110 111]\n",
      " [121 131 114]\n",
      " [151 146 177]]\n",
      "Second Matrix is =  [[19 30 11]\n",
      " [12 13 44]\n",
      " [15 56 17]]\n",
      "Subtraction of Matrix is =  [[ 80  80 100]\n",
      " [109 118  70]\n",
      " [136  90 160]]\n"
     ]
    }
   ],
   "source": [
    "#a=[[99 110 111] [121 131 114] [151 146 177]]\n",
    "#b=[[19 30 11] [12 13 44] [15 56 17]]\n",
    "\n",
    "a=np.matrix('99 110 111 ; 121 131 114 ; 151 146 177')\n",
    "b=np.matrix('19 30 11 ; 12 13 44 ; 15 56 17')\n",
    "\n",
    "c=a-b\n",
    "print(\"First Matrix is = \",a)\n",
    "print(\"Second Matrix is = \",b)\n",
    "print(\"Subtraction of Matrix is = \",c)"
   ]
  },
  {
   "cell_type": "markdown",
   "id": "1a8cee2b",
   "metadata": {},
   "source": [
    "# 4 Write a python program to multiply an Identity matrix of dimension 3-by-3 with given matrix\n",
    "a=[[ 9 10 11]\n",
    "[12 13 14] \n",
    "[15 16 17]]"
   ]
  },
  {
   "cell_type": "code",
   "execution_count": 116,
   "id": "85a9bb14",
   "metadata": {},
   "outputs": [
    {
     "data": {
      "text/plain": [
       "matrix([[ 9, 10, 11],\n",
       "        [12, 13, 14],\n",
       "        [15, 16, 17]])"
      ]
     },
     "execution_count": 116,
     "metadata": {},
     "output_type": "execute_result"
    }
   ],
   "source": [
    "a=np.matrix('1 0 0 ; 0 1 0 ; 0 0 1')\n",
    "b=np.matrix('9 10 11 ; 12 13 14 ; 15 16 17')\n",
    "\n",
    "c = a*b\n",
    "\n",
    "c"
   ]
  },
  {
   "cell_type": "markdown",
   "id": "d185c84a",
   "metadata": {},
   "source": [
    "# 5 Write Python program to find the length of list using for loop."
   ]
  },
  {
   "cell_type": "code",
   "execution_count": 103,
   "id": "69eeb1cf",
   "metadata": {},
   "outputs": [
    {
     "data": {
      "text/plain": [
       "<matplotlib.collections.PathCollection at 0x2237ac0b550>"
      ]
     },
     "execution_count": 103,
     "metadata": {},
     "output_type": "execute_result"
    },
    {
     "data": {
      "image/png": "[encoded data removed]",
      "text/plain": [
       "<Figure size 432x288 with 1 Axes>"
      ]
     },
     "metadata": {
      "needs_background": "light"
     },
     "output_type": "display_data"
    }
   ],
   "source": [
    "import numpy as np\n",
    "import matplotlib.pyplot as plt\n",
    "\n",
    "x = [1, 2, 3, 4, 5, 6, 7, 8]\n",
    "y = [2, 3, 1, 3, 1, 4, 2, 3]\n",
    "\n",
    "plt.xlabel(\"X\")\n",
    "\n",
    "plt.ylabel(\"Y\")\n",
    "\n",
    "plt.title(\"X VS. Y\")\n",
    "\n",
    "plt.plot(x,y,color=\"purple\",linestyle='--')\n",
    "plt.scatter(x,y,color = \"Green\", marker='*')"
   ]
  }
 ],
 "metadata": {
  "kernelspec": {
   "display_name": "Python 3 (ipykernel)",
   "language": "python",
   "name": "python3"
  },
  "language_info": {
   "codemirror_mode": {
    "name": "ipython",
    "version": 3
   },
   "file_extension": ".py",
   "mimetype": "text/x-python",
   "name": "python",
   "nbconvert_exporter": "python",
   "pygments_lexer": "ipython3",
   "version": "3.9.12"
  }
 },
 "nbformat": 4,
 "nbformat_minor": 5
}
